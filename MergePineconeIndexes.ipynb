{
 "cells": [
  {
   "cell_type": "code",
   "execution_count": 65,
   "metadata": {},
   "outputs": [],
   "source": [
    "SRC = [\n",
    "    \"TheDevOpsHandbookSecondEdition\",\n",
    "    \"DavidNBlankEdelmanSeekingSREConversation\",\n",
    "]\n",
    "\n",
    "DST = \"DevopsTest1\""
   ]
  },
  {
   "cell_type": "code",
   "execution_count": null,
   "metadata": {},
   "outputs": [],
   "source": [
    "! pip install pinecone-client"
   ]
  },
  {
   "cell_type": "code",
   "execution_count": 56,
   "metadata": {},
   "outputs": [],
   "source": [
    "import os\n",
    "\n",
    "PINECONE_API_KEY = os.environ.get(\"PINECONE_API_KEY\")\n",
    "PINECONE_ENVIRONMENT = \"asia-southeast1-gcp\"\n",
    "PINECONE_INDEX = \"aisystant\"\n",
    "PINECONE_DIMS = 1536\n",
    "\n",
    "STEP_SIZE = 10"
   ]
  },
  {
   "cell_type": "code",
   "execution_count": 15,
   "metadata": {},
   "outputs": [],
   "source": [
    "import pinecone\n",
    "\n",
    "pinecone.init(api_key=PINECONE_API_KEY, environment=PINECONE_ENVIRONMENT)"
   ]
  },
  {
   "cell_type": "code",
   "execution_count": 18,
   "metadata": {},
   "outputs": [],
   "source": [
    "index = pinecone.Index(PINECONE_INDEX)"
   ]
  },
  {
   "cell_type": "code",
   "execution_count": 70,
   "metadata": {},
   "outputs": [],
   "source": [
    "def all_docs(src):\n",
    "    result = index.query(\n",
    "        vector=[0.0 for _ in range(PINECONE_DIMS)],\n",
    "        top_k=10000,\n",
    "        namespace=src,\n",
    "    )\n",
    "    return list(map(lambda x: x[\"id\"], result[\"matches\"]))\n",
    "\n",
    "def convert_vectors(docs):\n",
    "    return list(map(lambda x: (x[\"id\"], x[\"values\"], x[\"metadata\"]), docs[\"vectors\"].values()))\n",
    "\n",
    "def move_docs(src, dst):\n",
    "    all_ids = all_docs(src)\n",
    "    # split all_ids into chunks of size STEP_SIZE\n",
    "    for i in range(0, len(all_ids), STEP_SIZE):\n",
    "        print(f\"Processing {src}: {i} to {i + STEP_SIZE} of {len(all_ids)}\")\n",
    "        ids = all_ids[i : i + STEP_SIZE]\n",
    "        docs = index.fetch(ids, namespace=src)\n",
    "        vectors = convert_vectors(docs)\n",
    "        #print(vectors)\n",
    "        index.upsert(vectors, namespace=dst)"
   ]
  },
  {
   "cell_type": "code",
   "execution_count": null,
   "metadata": {},
   "outputs": [],
   "source": [
    "for src in SRC:\n",
    "    print(\"Starting to move docs from\", src, \"to\", DST)\n",
    "    move_docs(src, DST)\n",
    "    print(\"Done moving docs from\", src, \"to\", DST)"
   ]
  }
 ],
 "metadata": {
  "kernelspec": {
   "display_name": "Python 3",
   "language": "python",
   "name": "python3"
  },
  "language_info": {
   "codemirror_mode": {
    "name": "ipython",
    "version": 3
   },
   "file_extension": ".py",
   "mimetype": "text/x-python",
   "name": "python",
   "nbconvert_exporter": "python",
   "pygments_lexer": "ipython3",
   "version": "3.10.4"
  },
  "orig_nbformat": 4
 },
 "nbformat": 4,
 "nbformat_minor": 2
}
